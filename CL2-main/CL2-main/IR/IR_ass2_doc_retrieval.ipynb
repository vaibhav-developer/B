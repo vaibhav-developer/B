{
 "cells": [
  {
   "cell_type": "code",
   "execution_count": 1,
   "metadata": {
    "id": "j8UdVUJjIHoB"
   },
   "outputs": [],
   "source": [
    "## Implement a program for retrieval of documents using inverted files."
   ]
  },
  {
   "cell_type": "code",
   "execution_count": 1,
   "metadata": {
    "id": "E-r-Q76wIMvK"
   },
   "outputs": [],
   "source": [
    " documents = {\n",
    "        1: \"The quick brown fox jumps over the lazy dog\",\n",
    "        2: \"The dog is lazy but the fox is quick\",\n",
    "        3: \"A quick brown fox jumps over a lazy dog\",\n",
    "        4: \"Dogs are great companions\",\n",
    "        5: \"Foxes are clever and quick\"\n",
    "    }\n"
   ]
  },
  {
   "cell_type": "code",
   "execution_count": 2,
   "metadata": {
    "id": "pb3PzbbhIMx-"
   },
   "outputs": [],
   "source": [
    " query_term = \"quick\"\n"
   ]
  },
  {
   "cell_type": "code",
   "execution_count": 3,
   "metadata": {
    "id": "VFxj32BsIM01"
   },
   "outputs": [],
   "source": [
    " from collections import defaultdict\n"
   ]
  },
  {
   "cell_type": "code",
   "execution_count": 4,
   "metadata": {
    "id": "x2NfB6P1IM3Z"
   },
   "outputs": [],
   "source": [
    "# Create an inverted index\n",
    "index = defaultdict(set)\n",
    "\n",
    "# Build the inverted index\n",
    "for doc_id, text in documents.items():\n",
    "    tokens = text.lower().split()\n",
    "    for token in tokens:\n",
    "        index[token].add(doc_id)\n"
   ]
  },
  {
   "cell_type": "code",
   "execution_count": 5,
   "metadata": {
    "colab": {
     "base_uri": "https://localhost:8080/"
    },
    "id": "TFSt8wuHIM6Z",
    "outputId": "a58f60d1-ca0b-4a93-cd0b-43a3a6ecc83a"
   },
   "outputs": [
    {
     "data": {
      "text/plain": [
       "{1, 2, 3, 5}"
      ]
     },
     "execution_count": 5,
     "metadata": {},
     "output_type": "execute_result"
    }
   ],
   "source": [
    "\n",
    "# Query the index\n",
    "result=index.get(query_term.lower(), set())\n",
    "result"
   ]
  },
  {
   "cell_type": "code",
   "execution_count": 6,
   "metadata": {
    "colab": {
     "base_uri": "https://localhost:8080/"
    },
    "id": "AALNtrLum_rA",
    "outputId": "ba29607b-c9cd-4f16-a5d6-9a10991870ac"
   },
   "outputs": [
    {
     "name": "stdout",
     "output_type": "stream",
     "text": [
      "Documents containing 'quick': [1, 2, 3, 5]\n"
     ]
    }
   ],
   "source": [
    " print(f\"Documents containing '{query_term}': {sorted(result)}\")"
   ]
  },
  {
   "cell_type": "code",
   "execution_count": null,
   "metadata": {
    "id": "k52AXbDhm_uU"
   },
   "outputs": [],
   "source": []
  },
  {
   "cell_type": "code",
   "execution_count": null,
   "metadata": {
    "id": "pkUBlGm4m_xx"
   },
   "outputs": [],
   "source": []
  }
 ],
 "metadata": {
  "colab": {
   "provenance": []
  },
  "kernelspec": {
   "display_name": "Python 3 (ipykernel)",
   "language": "python",
   "name": "python3"
  },
  "language_info": {
   "codemirror_mode": {
    "name": "ipython",
    "version": 3
   },
   "file_extension": ".py",
   "mimetype": "text/x-python",
   "name": "python",
   "nbconvert_exporter": "python",
   "pygments_lexer": "ipython3",
   "version": "3.12.2"
  }
 },
 "nbformat": 4,
 "nbformat_minor": 4
}
