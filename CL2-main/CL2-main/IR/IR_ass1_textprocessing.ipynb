{
 "cells": [
  {
   "cell_type": "code",
   "execution_count": 1,
   "metadata": {
    "id": "vcMIDkwD66-U"
   },
   "outputs": [],
   "source": [
    "##Write a program for pre-processing of a text document such as stop word removal, stemming.\n"
   ]
  },
  {
   "cell_type": "code",
   "execution_count": 1,
   "metadata": {
    "colab": {
     "base_uri": "https://localhost:8080/"
    },
    "id": "Spp8D8nr6-ag",
    "outputId": "727354af-9b58-45f9-fdf4-586090abbdba"
   },
   "outputs": [
    {
     "name": "stdout",
     "output_type": "stream",
     "text": [
      "Requirement already satisfied: nltk in c:\\users\\vaibh\\appdata\\local\\programs\\python\\python312\\lib\\site-packages (3.8.1)\n",
      "Requirement already satisfied: click in c:\\users\\vaibh\\appdata\\local\\programs\\python\\python312\\lib\\site-packages (from nltk) (8.1.7)\n",
      "Requirement already satisfied: joblib in c:\\users\\vaibh\\appdata\\local\\programs\\python\\python312\\lib\\site-packages (from nltk) (1.4.2)\n",
      "Requirement already satisfied: regex>=2021.8.3 in c:\\users\\vaibh\\appdata\\local\\programs\\python\\python312\\lib\\site-packages (from nltk) (2024.5.15)\n",
      "Requirement already satisfied: tqdm in c:\\users\\vaibh\\appdata\\local\\programs\\python\\python312\\lib\\site-packages (from nltk) (4.66.4)\n",
      "Requirement already satisfied: colorama in c:\\users\\vaibh\\appdata\\local\\programs\\python\\python312\\lib\\site-packages (from click->nltk) (0.4.6)\n"
     ]
    },
    {
     "name": "stderr",
     "output_type": "stream",
     "text": [
      "\n",
      "[notice] A new release of pip is available: 24.2 -> 24.3.1\n",
      "[notice] To update, run: python.exe -m pip install --upgrade pip\n"
     ]
    }
   ],
   "source": [
    "!pip install nltk\n"
   ]
  },
  {
   "cell_type": "code",
   "execution_count": 2,
   "metadata": {
    "colab": {
     "base_uri": "https://localhost:8080/"
    },
    "id": "MAANMjFM9nnE",
    "outputId": "e4d55711-090a-4243-ed4c-ecaff8752697"
   },
   "outputs": [
    {
     "name": "stderr",
     "output_type": "stream",
     "text": [
      "[nltk_data] Downloading package punkt to\n",
      "[nltk_data]     C:\\Users\\vaibh\\AppData\\Roaming\\nltk_data...\n",
      "[nltk_data]   Unzipping tokenizers\\punkt.zip.\n"
     ]
    },
    {
     "data": {
      "text/plain": [
       "True"
      ]
     },
     "execution_count": 2,
     "metadata": {},
     "output_type": "execute_result"
    }
   ],
   "source": [
    "import nltk\n",
    "nltk.download('punkt')"
   ]
  },
  {
   "cell_type": "code",
   "execution_count": 4,
   "metadata": {
    "id": "rHwXCOZ89syo"
   },
   "outputs": [],
   "source": [
    "input=''' Social media has transformed the way we communicate, interact, and share information in today's digital age. Platforms like Facebook, Twitter, Instagram, and TikTok connect billions of people worldwide, enabling the exchange of ideas, personal experiences, and cultural trends in real-time. While social media offers opportunities for creativity and community building, it also presents challenges such as the spread of misinformation, cyberbullying, and issues related to privacy and mental health. The impact of social media is profound, influencing everything from personal relationships to political discourse, and it continues to evolve as new technologies and platforms emerge. As society navigates these changes, understanding the implications of social media usage becomes increasingly important.\n",
    "\n",
    "'''"
   ]
  },
  {
   "cell_type": "code",
   "execution_count": 5,
   "metadata": {
    "id": "SvZQ66nT-e1F"
   },
   "outputs": [],
   "source": [
    "import string\n",
    "###Cleaning the input\n",
    "\n",
    "\n",
    "\n",
    "input_cleaned=input.translate(str.maketrans('', '', string.punctuation))\n",
    "\n",
    "input=input_cleaned.lower()"
   ]
  },
  {
   "cell_type": "code",
   "execution_count": 6,
   "metadata": {
    "colab": {
     "base_uri": "https://localhost:8080/"
    },
    "id": "yCd4aCmg9A5U",
    "outputId": "89edc06f-d62d-4c9f-86b5-686886c693c3"
   },
   "outputs": [
    {
     "data": {
      "text/plain": [
       "[' social media has transformed the way we communicate interact and share information in todays digital age platforms like facebook twitter instagram and tiktok connect billions of people worldwide enabling the exchange of ideas personal experiences and cultural trends in realtime while social media offers opportunities for creativity and community building it also presents challenges such as the spread of misinformation cyberbullying and issues related to privacy and mental health the impact of social media is profound influencing everything from personal relationships to political discourse and it continues to evolve as new technologies and platforms emerge as society navigates these changes understanding the implications of social media usage becomes increasingly important']"
      ]
     },
     "execution_count": 6,
     "metadata": {},
     "output_type": "execute_result"
    }
   ],
   "source": [
    "###Tokenization\n",
    "\n",
    "from nltk.tokenize import sent_tokenize\n",
    "\n",
    "input_sent_tokenized=sent_tokenize(input)\n",
    "\n",
    "\n",
    "input_sent_tokenized"
   ]
  },
  {
   "cell_type": "code",
   "execution_count": 8,
   "metadata": {
    "colab": {
     "base_uri": "https://localhost:8080/"
    },
    "id": "i8bEStU99BAF",
    "outputId": "3eabcbb7-bbbf-4c1a-da51-2f062ac10dcc"
   },
   "outputs": [
    {
     "data": {
      "text/plain": [
       "['social',\n",
       " 'media',\n",
       " 'has',\n",
       " 'transformed',\n",
       " 'the',\n",
       " 'way',\n",
       " 'we',\n",
       " 'communicate',\n",
       " 'interact',\n",
       " 'and',\n",
       " 'share',\n",
       " 'information',\n",
       " 'in',\n",
       " 'todays',\n",
       " 'digital',\n",
       " 'age',\n",
       " 'platforms',\n",
       " 'like',\n",
       " 'facebook',\n",
       " 'twitter',\n",
       " 'instagram',\n",
       " 'and',\n",
       " 'tiktok',\n",
       " 'connect',\n",
       " 'billions',\n",
       " 'of',\n",
       " 'people',\n",
       " 'worldwide',\n",
       " 'enabling',\n",
       " 'the',\n",
       " 'exchange',\n",
       " 'of',\n",
       " 'ideas',\n",
       " 'personal',\n",
       " 'experiences',\n",
       " 'and',\n",
       " 'cultural',\n",
       " 'trends',\n",
       " 'in',\n",
       " 'realtime',\n",
       " 'while',\n",
       " 'social',\n",
       " 'media',\n",
       " 'offers',\n",
       " 'opportunities',\n",
       " 'for',\n",
       " 'creativity',\n",
       " 'and',\n",
       " 'community',\n",
       " 'building',\n",
       " 'it',\n",
       " 'also',\n",
       " 'presents',\n",
       " 'challenges',\n",
       " 'such',\n",
       " 'as',\n",
       " 'the',\n",
       " 'spread',\n",
       " 'of',\n",
       " 'misinformation',\n",
       " 'cyberbullying',\n",
       " 'and',\n",
       " 'issues',\n",
       " 'related',\n",
       " 'to',\n",
       " 'privacy',\n",
       " 'and',\n",
       " 'mental',\n",
       " 'health',\n",
       " 'the',\n",
       " 'impact',\n",
       " 'of',\n",
       " 'social',\n",
       " 'media',\n",
       " 'is',\n",
       " 'profound',\n",
       " 'influencing',\n",
       " 'everything',\n",
       " 'from',\n",
       " 'personal',\n",
       " 'relationships',\n",
       " 'to',\n",
       " 'political',\n",
       " 'discourse',\n",
       " 'and',\n",
       " 'it',\n",
       " 'continues',\n",
       " 'to',\n",
       " 'evolve',\n",
       " 'as',\n",
       " 'new',\n",
       " 'technologies',\n",
       " 'and',\n",
       " 'platforms',\n",
       " 'emerge',\n",
       " 'as',\n",
       " 'society',\n",
       " 'navigates',\n",
       " 'these',\n",
       " 'changes',\n",
       " 'understanding',\n",
       " 'the',\n",
       " 'implications',\n",
       " 'of',\n",
       " 'social',\n",
       " 'media',\n",
       " 'usage',\n",
       " 'becomes',\n",
       " 'increasingly',\n",
       " 'important']"
      ]
     },
     "execution_count": 8,
     "metadata": {},
     "output_type": "execute_result"
    }
   ],
   "source": [
    "##Tokenization\n",
    "\n",
    "\n",
    "from nltk.tokenize import word_tokenize\n",
    "\n",
    "input_word_tokenize=word_tokenize(input)\n",
    "\n",
    "input_word_tokenize"
   ]
  },
  {
   "cell_type": "code",
   "execution_count": 7,
   "metadata": {
    "id": "_h0Hpkjc6-__"
   },
   "outputs": [],
   "source": []
  },
  {
   "cell_type": "code",
   "execution_count": 9,
   "metadata": {
    "colab": {
     "base_uri": "https://localhost:8080/"
    },
    "id": "spazMHiDFwn6",
    "outputId": "ea5fc7a2-e988-4202-8aef-d0d3a14ecbd4"
   },
   "outputs": [
    {
     "name": "stderr",
     "output_type": "stream",
     "text": [
      "[nltk_data] Downloading package stopwords to\n",
      "[nltk_data]     C:\\Users\\vaibh\\AppData\\Roaming\\nltk_data...\n",
      "[nltk_data]   Unzipping corpora\\stopwords.zip.\n"
     ]
    },
    {
     "data": {
      "text/plain": [
       "True"
      ]
     },
     "execution_count": 9,
     "metadata": {},
     "output_type": "execute_result"
    }
   ],
   "source": [
    "import nltk\n",
    "nltk.download('stopwords')"
   ]
  },
  {
   "cell_type": "code",
   "execution_count": 11,
   "metadata": {
    "colab": {
     "base_uri": "https://localhost:8080/"
    },
    "id": "pi7Wskz1FGXB",
    "outputId": "2dc01725-625d-4bad-bb79-bd9e7d7a450b"
   },
   "outputs": [
    {
     "data": {
      "text/plain": [
       "['social',\n",
       " 'media',\n",
       " 'transformed',\n",
       " 'way',\n",
       " 'communicate',\n",
       " 'interact',\n",
       " 'share',\n",
       " 'information',\n",
       " 'todays',\n",
       " 'digital',\n",
       " 'age',\n",
       " 'platforms',\n",
       " 'like',\n",
       " 'facebook',\n",
       " 'twitter',\n",
       " 'instagram',\n",
       " 'tiktok',\n",
       " 'connect',\n",
       " 'billions',\n",
       " 'people',\n",
       " 'worldwide',\n",
       " 'enabling',\n",
       " 'exchange',\n",
       " 'ideas',\n",
       " 'personal',\n",
       " 'experiences',\n",
       " 'cultural',\n",
       " 'trends',\n",
       " 'realtime',\n",
       " 'social',\n",
       " 'media',\n",
       " 'offers',\n",
       " 'opportunities',\n",
       " 'creativity',\n",
       " 'community',\n",
       " 'building',\n",
       " 'also',\n",
       " 'presents',\n",
       " 'challenges',\n",
       " 'spread',\n",
       " 'misinformation',\n",
       " 'cyberbullying',\n",
       " 'issues',\n",
       " 'related',\n",
       " 'privacy',\n",
       " 'mental',\n",
       " 'health',\n",
       " 'impact',\n",
       " 'social',\n",
       " 'media',\n",
       " 'profound',\n",
       " 'influencing',\n",
       " 'everything',\n",
       " 'personal',\n",
       " 'relationships',\n",
       " 'political',\n",
       " 'discourse',\n",
       " 'continues',\n",
       " 'evolve',\n",
       " 'new',\n",
       " 'technologies',\n",
       " 'platforms',\n",
       " 'emerge',\n",
       " 'society',\n",
       " 'navigates',\n",
       " 'changes',\n",
       " 'understanding',\n",
       " 'implications',\n",
       " 'social',\n",
       " 'media',\n",
       " 'usage',\n",
       " 'becomes',\n",
       " 'increasingly',\n",
       " 'important']"
      ]
     },
     "execution_count": 11,
     "metadata": {},
     "output_type": "execute_result"
    }
   ],
   "source": [
    "##Stop words removal\n",
    "\n",
    "\n",
    "from nltk.corpus import stopwords\n",
    "a=stopwords.words('english')\n",
    "\n",
    "\n",
    "input_stop_words_removed=[word for word in input_word_tokenize  if word not in a ]\n",
    "\n",
    "\n",
    "input_stop_words_removed\n",
    "\n"
   ]
  },
  {
   "cell_type": "code",
   "execution_count": 12,
   "metadata": {
    "colab": {
     "base_uri": "https://localhost:8080/"
    },
    "id": "GagT80v_FGad",
    "outputId": "954371b5-024e-44d3-824f-6f22298fcb17"
   },
   "outputs": [
    {
     "data": {
      "text/plain": [
       "['social',\n",
       " 'media',\n",
       " 'transform',\n",
       " 'way',\n",
       " 'commun',\n",
       " 'interact',\n",
       " 'share',\n",
       " 'inform',\n",
       " 'today',\n",
       " 'digit',\n",
       " 'age',\n",
       " 'platform',\n",
       " 'like',\n",
       " 'facebook',\n",
       " 'twitter',\n",
       " 'instagram',\n",
       " 'tiktok',\n",
       " 'connect',\n",
       " 'billion',\n",
       " 'peopl',\n",
       " 'worldwid',\n",
       " 'enabl',\n",
       " 'exchang',\n",
       " 'idea',\n",
       " 'person',\n",
       " 'experi',\n",
       " 'cultur',\n",
       " 'trend',\n",
       " 'realtim',\n",
       " 'social',\n",
       " 'media',\n",
       " 'offer',\n",
       " 'opportun',\n",
       " 'creativ',\n",
       " 'commun',\n",
       " 'build',\n",
       " 'also',\n",
       " 'present',\n",
       " 'challeng',\n",
       " 'spread',\n",
       " 'misinform',\n",
       " 'cyberbulli',\n",
       " 'issu',\n",
       " 'relat',\n",
       " 'privaci',\n",
       " 'mental',\n",
       " 'health',\n",
       " 'impact',\n",
       " 'social',\n",
       " 'media',\n",
       " 'profound',\n",
       " 'influenc',\n",
       " 'everyth',\n",
       " 'person',\n",
       " 'relationship',\n",
       " 'polit',\n",
       " 'discours',\n",
       " 'continu',\n",
       " 'evolv',\n",
       " 'new',\n",
       " 'technolog',\n",
       " 'platform',\n",
       " 'emerg',\n",
       " 'societi',\n",
       " 'navig',\n",
       " 'chang',\n",
       " 'understand',\n",
       " 'implic',\n",
       " 'social',\n",
       " 'media',\n",
       " 'usag',\n",
       " 'becom',\n",
       " 'increasingli',\n",
       " 'import']"
      ]
     },
     "execution_count": 12,
     "metadata": {},
     "output_type": "execute_result"
    }
   ],
   "source": [
    "##Stemming\n",
    "\n",
    "from nltk.stem import PorterStemmer\n",
    "\n",
    "stemmer=PorterStemmer()\n",
    "stemmed_words=[stemmer.stem(word) for word in input_stop_words_removed]\n",
    "\n",
    "stemmed_words"
   ]
  },
  {
   "cell_type": "code",
   "execution_count": null,
   "metadata": {
    "colab": {
     "base_uri": "https://localhost:8080/"
    },
    "id": "-9McPo8nGi0N",
    "outputId": "c0fd91e7-501f-49b8-bc8d-12c14cf3aa80"
   },
   "outputs": [
    {
     "name": "stderr",
     "output_type": "stream",
     "text": [
      "[nltk_data] Downloading package wordnet to\n",
      "[nltk_data]     C:\\Users\\vaibh\\AppData\\Roaming\\nltk_data...\n"
     ]
    }
   ],
   "source": [
    "\n",
    "import nltk\n",
    "nltk.download('wordnet')"
   ]
  },
  {
   "cell_type": "code",
   "execution_count": null,
   "metadata": {
    "colab": {
     "base_uri": "https://localhost:8080/"
    },
    "id": "MUOKvi3QGPjY",
    "outputId": "42c82e1b-ae2f-432a-da60-3e11a52a9b7b"
   },
   "outputs": [],
   "source": [
    "##lemmatization\n",
    "\n",
    "\n",
    "\n",
    "from nltk.stem import WordNetLemmatizer\n",
    "\n",
    "lemmatizer=WordNetLemmatizer()\n",
    "\n",
    "lemmatized_words=[lemmatizer.lemmatize(word) for word in stemmed_words]\n",
    "\n",
    "lemmatized_words"
   ]
  },
  {
   "cell_type": "code",
   "execution_count": 12,
   "metadata": {
    "id": "bmFu2JA46_Da"
   },
   "outputs": [],
   "source": []
  }
 ],
 "metadata": {
  "colab": {
   "provenance": []
  },
  "kernelspec": {
   "display_name": "Python 3 (ipykernel)",
   "language": "python",
   "name": "python3"
  },
  "language_info": {
   "codemirror_mode": {
    "name": "ipython",
    "version": 3
   },
   "file_extension": ".py",
   "mimetype": "text/x-python",
   "name": "python",
   "nbconvert_exporter": "python",
   "pygments_lexer": "ipython3",
   "version": "3.12.2"
  }
 },
 "nbformat": 4,
 "nbformat_minor": 4
}
