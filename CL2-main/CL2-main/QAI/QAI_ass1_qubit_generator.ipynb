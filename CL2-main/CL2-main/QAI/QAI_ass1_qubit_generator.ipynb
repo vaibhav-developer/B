{
 "cells": [
  {
   "cell_type": "code",
   "execution_count": null,
   "metadata": {
    "id": "SjVdWogGnzkT"
   },
   "outputs": [],
   "source": [
    "##. Implementations of 16 Qubit Random Number Generator"
   ]
  },
  {
   "cell_type": "code",
   "execution_count": 1,
   "metadata": {
    "colab": {
     "base_uri": "https://localhost:8080/"
    },
    "id": "56znT2uI9Z37",
    "outputId": "9dbbea59-4af5-40c6-e0ed-6cbefae5d639"
   },
   "outputs": [
    {
     "name": "stdout",
     "output_type": "stream",
     "text": [
      "Requirement already satisfied: qiskit in c:\\users\\vaibh\\appdata\\local\\programs\\python\\python312\\lib\\site-packages (1.2.4)\n",
      "Requirement already satisfied: rustworkx>=0.15.0 in c:\\users\\vaibh\\appdata\\local\\programs\\python\\python312\\lib\\site-packages (from qiskit) (0.15.1)\n",
      "Requirement already satisfied: numpy<3,>=1.17 in c:\\users\\vaibh\\appdata\\local\\programs\\python\\python312\\lib\\site-packages (from qiskit) (1.26.4)\n",
      "Requirement already satisfied: scipy>=1.5 in c:\\users\\vaibh\\appdata\\local\\programs\\python\\python312\\lib\\site-packages (from qiskit) (1.13.0)\n",
      "Requirement already satisfied: sympy>=1.3 in c:\\users\\vaibh\\appdata\\local\\programs\\python\\python312\\lib\\site-packages (from qiskit) (1.12)\n",
      "Requirement already satisfied: dill>=0.3 in c:\\users\\vaibh\\appdata\\local\\programs\\python\\python312\\lib\\site-packages (from qiskit) (0.3.9)\n",
      "Requirement already satisfied: python-dateutil>=2.8.0 in c:\\users\\vaibh\\appdata\\local\\programs\\python\\python312\\lib\\site-packages (from qiskit) (2.9.0.post0)\n",
      "Requirement already satisfied: stevedore>=3.0.0 in c:\\users\\vaibh\\appdata\\local\\programs\\python\\python312\\lib\\site-packages (from qiskit) (5.3.0)\n",
      "Requirement already satisfied: typing-extensions in c:\\users\\vaibh\\appdata\\local\\programs\\python\\python312\\lib\\site-packages (from qiskit) (4.11.0)\n",
      "Requirement already satisfied: symengine<0.14,>=0.11 in c:\\users\\vaibh\\appdata\\local\\programs\\python\\python312\\lib\\site-packages (from qiskit) (0.13.0)\n",
      "Requirement already satisfied: six>=1.5 in c:\\users\\vaibh\\appdata\\local\\programs\\python\\python312\\lib\\site-packages (from python-dateutil>=2.8.0->qiskit) (1.16.0)\n",
      "Requirement already satisfied: pbr>=2.0.0 in c:\\users\\vaibh\\appdata\\local\\programs\\python\\python312\\lib\\site-packages (from stevedore>=3.0.0->qiskit) (6.1.0)\n",
      "Requirement already satisfied: mpmath>=0.19 in c:\\users\\vaibh\\appdata\\local\\programs\\python\\python312\\lib\\site-packages (from sympy>=1.3->qiskit) (1.3.0)\n"
     ]
    },
    {
     "name": "stderr",
     "output_type": "stream",
     "text": [
      "\n",
      "[notice] A new release of pip is available: 24.2 -> 24.3.1\n",
      "[notice] To update, run: python.exe -m pip install --upgrade pip\n"
     ]
    }
   ],
   "source": [
    "!pip install qiskit"
   ]
  },
  {
   "cell_type": "code",
   "execution_count": 2,
   "metadata": {
    "colab": {
     "base_uri": "https://localhost:8080/"
    },
    "id": "1pvvHx5z_13a",
    "outputId": "837a3ac6-6dd9-4f39-ad9d-9dca62eb370f"
   },
   "outputs": [
    {
     "name": "stdout",
     "output_type": "stream",
     "text": [
      "Requirement already satisfied: qiskit-aer in c:\\users\\vaibh\\appdata\\local\\programs\\python\\python312\\lib\\site-packages (0.15.1)\n",
      "Requirement already satisfied: qiskit>=1.1.0 in c:\\users\\vaibh\\appdata\\local\\programs\\python\\python312\\lib\\site-packages (from qiskit-aer) (1.2.4)\n",
      "Requirement already satisfied: numpy>=1.16.3 in c:\\users\\vaibh\\appdata\\local\\programs\\python\\python312\\lib\\site-packages (from qiskit-aer) (1.26.4)\n",
      "Requirement already satisfied: scipy>=1.0 in c:\\users\\vaibh\\appdata\\local\\programs\\python\\python312\\lib\\site-packages (from qiskit-aer) (1.13.0)\n",
      "Requirement already satisfied: psutil>=5 in c:\\users\\vaibh\\appdata\\local\\programs\\python\\python312\\lib\\site-packages (from qiskit-aer) (5.9.8)\n",
      "Requirement already satisfied: rustworkx>=0.15.0 in c:\\users\\vaibh\\appdata\\local\\programs\\python\\python312\\lib\\site-packages (from qiskit>=1.1.0->qiskit-aer) (0.15.1)\n",
      "Requirement already satisfied: sympy>=1.3 in c:\\users\\vaibh\\appdata\\local\\programs\\python\\python312\\lib\\site-packages (from qiskit>=1.1.0->qiskit-aer) (1.12)\n",
      "Requirement already satisfied: dill>=0.3 in c:\\users\\vaibh\\appdata\\local\\programs\\python\\python312\\lib\\site-packages (from qiskit>=1.1.0->qiskit-aer) (0.3.9)\n",
      "Requirement already satisfied: python-dateutil>=2.8.0 in c:\\users\\vaibh\\appdata\\local\\programs\\python\\python312\\lib\\site-packages (from qiskit>=1.1.0->qiskit-aer) (2.9.0.post0)\n",
      "Requirement already satisfied: stevedore>=3.0.0 in c:\\users\\vaibh\\appdata\\local\\programs\\python\\python312\\lib\\site-packages (from qiskit>=1.1.0->qiskit-aer) (5.3.0)\n",
      "Requirement already satisfied: typing-extensions in c:\\users\\vaibh\\appdata\\local\\programs\\python\\python312\\lib\\site-packages (from qiskit>=1.1.0->qiskit-aer) (4.11.0)\n",
      "Requirement already satisfied: symengine<0.14,>=0.11 in c:\\users\\vaibh\\appdata\\local\\programs\\python\\python312\\lib\\site-packages (from qiskit>=1.1.0->qiskit-aer) (0.13.0)\n",
      "Requirement already satisfied: six>=1.5 in c:\\users\\vaibh\\appdata\\local\\programs\\python\\python312\\lib\\site-packages (from python-dateutil>=2.8.0->qiskit>=1.1.0->qiskit-aer) (1.16.0)\n",
      "Requirement already satisfied: pbr>=2.0.0 in c:\\users\\vaibh\\appdata\\local\\programs\\python\\python312\\lib\\site-packages (from stevedore>=3.0.0->qiskit>=1.1.0->qiskit-aer) (6.1.0)\n",
      "Requirement already satisfied: mpmath>=0.19 in c:\\users\\vaibh\\appdata\\local\\programs\\python\\python312\\lib\\site-packages (from sympy>=1.3->qiskit>=1.1.0->qiskit-aer) (1.3.0)\n"
     ]
    },
    {
     "name": "stderr",
     "output_type": "stream",
     "text": [
      "\n",
      "[notice] A new release of pip is available: 24.2 -> 24.3.1\n",
      "[notice] To update, run: python.exe -m pip install --upgrade pip\n"
     ]
    }
   ],
   "source": [
    "!pip install qiskit-aer"
   ]
  },
  {
   "cell_type": "code",
   "execution_count": 3,
   "metadata": {
    "id": "jhrcEHNk7mwL"
   },
   "outputs": [],
   "source": [
    "from qiskit import QuantumCircuit,transpile\n",
    "from qiskit import QuantumRegister,ClassicalRegister\n",
    "\n",
    "from qiskit_aer import AerSimulator\n",
    "\n",
    "\n",
    "from qiskit.visualization import plot_histogram"
   ]
  },
  {
   "cell_type": "code",
   "execution_count": 4,
   "metadata": {
    "id": "BAuiibiZ7myv"
   },
   "outputs": [],
   "source": [
    "q=QuantumRegister(16,'q')\n",
    "c=ClassicalRegister(16,'c')\n",
    "\n",
    "circuit=QuantumCircuit(q,c)"
   ]
  },
  {
   "cell_type": "code",
   "execution_count": 5,
   "metadata": {
    "colab": {
     "base_uri": "https://localhost:8080/",
     "height": 556
    },
    "id": "WDpd7vTw7m1a",
    "outputId": "3b73ce14-bd38-4045-ad97-ac6331e2eb58"
   },
   "outputs": [
    {
     "data": {
      "text/html": [
       "<pre style=\"word-wrap: normal;white-space: pre;background: #fff0;line-height: 1.1;font-family: &quot;Courier New&quot;,Courier,monospace\">      ┌───┐┌─┐                                             \n",
       " q_0: ┤ H ├┤M├─────────────────────────────────────────────\n",
       "      ├───┤└╥┘┌─┐                                          \n",
       " q_1: ┤ H ├─╫─┤M├──────────────────────────────────────────\n",
       "      ├───┤ ║ └╥┘┌─┐                                       \n",
       " q_2: ┤ H ├─╫──╫─┤M├───────────────────────────────────────\n",
       "      ├───┤ ║  ║ └╥┘┌─┐                                    \n",
       " q_3: ┤ H ├─╫──╫──╫─┤M├────────────────────────────────────\n",
       "      ├───┤ ║  ║  ║ └╥┘┌─┐                                 \n",
       " q_4: ┤ H ├─╫──╫──╫──╫─┤M├─────────────────────────────────\n",
       "      ├───┤ ║  ║  ║  ║ └╥┘┌─┐                              \n",
       " q_5: ┤ H ├─╫──╫──╫──╫──╫─┤M├──────────────────────────────\n",
       "      ├───┤ ║  ║  ║  ║  ║ └╥┘┌─┐                           \n",
       " q_6: ┤ H ├─╫──╫──╫──╫──╫──╫─┤M├───────────────────────────\n",
       "      ├───┤ ║  ║  ║  ║  ║  ║ └╥┘┌─┐                        \n",
       " q_7: ┤ H ├─╫──╫──╫──╫──╫──╫──╫─┤M├────────────────────────\n",
       "      ├───┤ ║  ║  ║  ║  ║  ║  ║ └╥┘┌─┐                     \n",
       " q_8: ┤ H ├─╫──╫──╫──╫──╫──╫──╫──╫─┤M├─────────────────────\n",
       "      ├───┤ ║  ║  ║  ║  ║  ║  ║  ║ └╥┘┌─┐                  \n",
       " q_9: ┤ H ├─╫──╫──╫──╫──╫──╫──╫──╫──╫─┤M├──────────────────\n",
       "      ├───┤ ║  ║  ║  ║  ║  ║  ║  ║  ║ └╥┘┌─┐               \n",
       "q_10: ┤ H ├─╫──╫──╫──╫──╫──╫──╫──╫──╫──╫─┤M├───────────────\n",
       "      ├───┤ ║  ║  ║  ║  ║  ║  ║  ║  ║  ║ └╥┘┌─┐            \n",
       "q_11: ┤ H ├─╫──╫──╫──╫──╫──╫──╫──╫──╫──╫──╫─┤M├────────────\n",
       "      ├───┤ ║  ║  ║  ║  ║  ║  ║  ║  ║  ║  ║ └╥┘┌─┐         \n",
       "q_12: ┤ H ├─╫──╫──╫──╫──╫──╫──╫──╫──╫──╫──╫──╫─┤M├─────────\n",
       "      ├───┤ ║  ║  ║  ║  ║  ║  ║  ║  ║  ║  ║  ║ └╥┘┌─┐      \n",
       "q_13: ┤ H ├─╫──╫──╫──╫──╫──╫──╫──╫──╫──╫──╫──╫──╫─┤M├──────\n",
       "      ├───┤ ║  ║  ║  ║  ║  ║  ║  ║  ║  ║  ║  ║  ║ └╥┘┌─┐   \n",
       "q_14: ┤ H ├─╫──╫──╫──╫──╫──╫──╫──╫──╫──╫──╫──╫──╫──╫─┤M├───\n",
       "      ├───┤ ║  ║  ║  ║  ║  ║  ║  ║  ║  ║  ║  ║  ║  ║ └╥┘┌─┐\n",
       "q_15: ┤ H ├─╫──╫──╫──╫──╫──╫──╫──╫──╫──╫──╫──╫──╫──╫──╫─┤M├\n",
       "      └───┘ ║  ║  ║  ║  ║  ║  ║  ║  ║  ║  ║  ║  ║  ║  ║ └╥┘\n",
       "c: 16/══════╩══╩══╩══╩══╩══╩══╩══╩══╩══╩══╩══╩══╩══╩══╩══╩═\n",
       "            0  1  2  3  4  5  6  7  8  9  10 11 12 13 14 15</pre>"
      ],
      "text/plain": [
       "      ┌───┐┌─┐                                             \n",
       " q_0: ┤ H ├┤M├─────────────────────────────────────────────\n",
       "      ├───┤└╥┘┌─┐                                          \n",
       " q_1: ┤ H ├─╫─┤M├──────────────────────────────────────────\n",
       "      ├───┤ ║ └╥┘┌─┐                                       \n",
       " q_2: ┤ H ├─╫──╫─┤M├───────────────────────────────────────\n",
       "      ├───┤ ║  ║ └╥┘┌─┐                                    \n",
       " q_3: ┤ H ├─╫──╫──╫─┤M├────────────────────────────────────\n",
       "      ├───┤ ║  ║  ║ └╥┘┌─┐                                 \n",
       " q_4: ┤ H ├─╫──╫──╫──╫─┤M├─────────────────────────────────\n",
       "      ├───┤ ║  ║  ║  ║ └╥┘┌─┐                              \n",
       " q_5: ┤ H ├─╫──╫──╫──╫──╫─┤M├──────────────────────────────\n",
       "      ├───┤ ║  ║  ║  ║  ║ └╥┘┌─┐                           \n",
       " q_6: ┤ H ├─╫──╫──╫──╫──╫──╫─┤M├───────────────────────────\n",
       "      ├───┤ ║  ║  ║  ║  ║  ║ └╥┘┌─┐                        \n",
       " q_7: ┤ H ├─╫──╫──╫──╫──╫──╫──╫─┤M├────────────────────────\n",
       "      ├───┤ ║  ║  ║  ║  ║  ║  ║ └╥┘┌─┐                     \n",
       " q_8: ┤ H ├─╫──╫──╫──╫──╫──╫──╫──╫─┤M├─────────────────────\n",
       "      ├───┤ ║  ║  ║  ║  ║  ║  ║  ║ └╥┘┌─┐                  \n",
       " q_9: ┤ H ├─╫──╫──╫──╫──╫──╫──╫──╫──╫─┤M├──────────────────\n",
       "      ├───┤ ║  ║  ║  ║  ║  ║  ║  ║  ║ └╥┘┌─┐               \n",
       "q_10: ┤ H ├─╫──╫──╫──╫──╫──╫──╫──╫──╫──╫─┤M├───────────────\n",
       "      ├───┤ ║  ║  ║  ║  ║  ║  ║  ║  ║  ║ └╥┘┌─┐            \n",
       "q_11: ┤ H ├─╫──╫──╫──╫──╫──╫──╫──╫──╫──╫──╫─┤M├────────────\n",
       "      ├───┤ ║  ║  ║  ║  ║  ║  ║  ║  ║  ║  ║ └╥┘┌─┐         \n",
       "q_12: ┤ H ├─╫──╫──╫──╫──╫──╫──╫──╫──╫──╫──╫──╫─┤M├─────────\n",
       "      ├───┤ ║  ║  ║  ║  ║  ║  ║  ║  ║  ║  ║  ║ └╥┘┌─┐      \n",
       "q_13: ┤ H ├─╫──╫──╫──╫──╫──╫──╫──╫──╫──╫──╫──╫──╫─┤M├──────\n",
       "      ├───┤ ║  ║  ║  ║  ║  ║  ║  ║  ║  ║  ║  ║  ║ └╥┘┌─┐   \n",
       "q_14: ┤ H ├─╫──╫──╫──╫──╫──╫──╫──╫──╫──╫──╫──╫──╫──╫─┤M├───\n",
       "      ├───┤ ║  ║  ║  ║  ║  ║  ║  ║  ║  ║  ║  ║  ║  ║ └╥┘┌─┐\n",
       "q_15: ┤ H ├─╫──╫──╫──╫──╫──╫──╫──╫──╫──╫──╫──╫──╫──╫──╫─┤M├\n",
       "      └───┘ ║  ║  ║  ║  ║  ║  ║  ║  ║  ║  ║  ║  ║  ║  ║ └╥┘\n",
       "c: 16/══════╩══╩══╩══╩══╩══╩══╩══╩══╩══╩══╩══╩══╩══╩══╩══╩═\n",
       "            0  1  2  3  4  5  6  7  8  9  10 11 12 13 14 15"
      ]
     },
     "execution_count": 5,
     "metadata": {},
     "output_type": "execute_result"
    }
   ],
   "source": [
    "circuit.h(q)\n",
    "circuit.draw()\n",
    "circuit.measure(q,c)\n",
    "circuit.draw()\n",
    "\n"
   ]
  },
  {
   "cell_type": "code",
   "execution_count": 6,
   "metadata": {
    "id": "h2RZwtxW7m4T"
   },
   "outputs": [],
   "source": [
    "simulator=AerSimulator()\n",
    "\n",
    "compiled_circuit=transpile(circuit,simulator)\n",
    "\n"
   ]
  },
  {
   "cell_type": "code",
   "execution_count": 7,
   "metadata": {
    "id": "Ixajb0bP_joR"
   },
   "outputs": [],
   "source": [
    "job=simulator.run(compiled_circuit,shots=10)\n",
    "\n"
   ]
  },
  {
   "cell_type": "code",
   "execution_count": 8,
   "metadata": {
    "colab": {
     "base_uri": "https://localhost:8080/"
    },
    "id": "UUZvQ34y_jrO",
    "outputId": "4184052a-21f2-4194-a42f-c0671341141c"
   },
   "outputs": [
    {
     "name": "stdout",
     "output_type": "stream",
     "text": [
      "Job is Executing ....\n",
      "{'1111110111111010': 1, '0001101101000011': 1, '1100111000010101': 1, '1100000001100001': 1, '1110011101010000': 1, '1001100000010111': 1, '0000001001100110': 1, '1101000111010000': 1, '0011100010011001': 1, '1010000101011110': 1}\n"
     ]
    }
   ],
   "source": [
    "print('Job is Executing ....')\n",
    "\n",
    "result=job.result()\n",
    "counts=result.get_counts()\n",
    "print(counts)\n",
    "\n",
    "\n"
   ]
  },
  {
   "cell_type": "code",
   "execution_count": null,
   "metadata": {
    "id": "kLMN-PEi_juv"
   },
   "outputs": [],
   "source": []
  },
  {
   "cell_type": "code",
   "execution_count": null,
   "metadata": {
    "colab": {
     "base_uri": "https://localhost:8080/",
     "height": 106
    },
    "id": "Pcp7Y7_W7m75",
    "outputId": "8fdde389-0af0-4332-f192-a7a76b054fde"
   },
   "outputs": [],
   "source": []
  },
  {
   "cell_type": "code",
   "execution_count": null,
   "metadata": {
    "id": "8UrACpnY7m_f"
   },
   "outputs": [],
   "source": []
  }
 ],
 "metadata": {
  "colab": {
   "provenance": []
  },
  "kernelspec": {
   "display_name": "Python 3 (ipykernel)",
   "language": "python",
   "name": "python3"
  },
  "language_info": {
   "codemirror_mode": {
    "name": "ipython",
    "version": 3
   },
   "file_extension": ".py",
   "mimetype": "text/x-python",
   "name": "python",
   "nbconvert_exporter": "python",
   "pygments_lexer": "ipython3",
   "version": "3.12.2"
  }
 },
 "nbformat": 4,
 "nbformat_minor": 4
}
