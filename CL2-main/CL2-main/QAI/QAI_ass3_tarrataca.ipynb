{
 "cells": [
  {
   "cell_type": "code",
   "execution_count": 1,
   "metadata": {
    "id": "ISos4rM0HHtz"
   },
   "outputs": [],
   "source": [
    "# Implement Tarrataca’s quantum production system with the 3-puzzle problem"
   ]
  },
  {
   "cell_type": "code",
   "execution_count": 1,
   "metadata": {
    "colab": {
     "base_uri": "https://localhost:8080/"
    },
    "id": "185v1ChGH6gC",
    "outputId": "336707d9-5fea-4dd0-f89d-9594fe1bcf41"
   },
   "outputs": [
    {
     "name": "stdout",
     "output_type": "stream",
     "text": [
      "Requirement already satisfied: qiskit in c:\\users\\vaibh\\appdata\\local\\programs\\python\\python312\\lib\\site-packages (1.2.4)"
     ]
    },
    {
     "name": "stderr",
     "output_type": "stream",
     "text": [
      "\n",
      "[notice] A new release of pip is available: 24.2 -> 24.3.1\n",
      "[notice] To update, run: python.exe -m pip install --upgrade pip\n"
     ]
    },
    {
     "name": "stdout",
     "output_type": "stream",
     "text": [
      "\n",
      "Requirement already satisfied: rustworkx>=0.15.0 in c:\\users\\vaibh\\appdata\\local\\programs\\python\\python312\\lib\\site-packages (from qiskit) (0.15.1)\n",
      "Requirement already satisfied: numpy<3,>=1.17 in c:\\users\\vaibh\\appdata\\local\\programs\\python\\python312\\lib\\site-packages (from qiskit) (1.26.4)\n",
      "Requirement already satisfied: scipy>=1.5 in c:\\users\\vaibh\\appdata\\local\\programs\\python\\python312\\lib\\site-packages (from qiskit) (1.13.0)\n",
      "Requirement already satisfied: sympy>=1.3 in c:\\users\\vaibh\\appdata\\local\\programs\\python\\python312\\lib\\site-packages (from qiskit) (1.12)\n",
      "Requirement already satisfied: dill>=0.3 in c:\\users\\vaibh\\appdata\\local\\programs\\python\\python312\\lib\\site-packages (from qiskit) (0.3.9)\n",
      "Requirement already satisfied: python-dateutil>=2.8.0 in c:\\users\\vaibh\\appdata\\local\\programs\\python\\python312\\lib\\site-packages (from qiskit) (2.9.0.post0)\n",
      "Requirement already satisfied: stevedore>=3.0.0 in c:\\users\\vaibh\\appdata\\local\\programs\\python\\python312\\lib\\site-packages (from qiskit) (5.3.0)\n",
      "Requirement already satisfied: typing-extensions in c:\\users\\vaibh\\appdata\\local\\programs\\python\\python312\\lib\\site-packages (from qiskit) (4.11.0)\n",
      "Requirement already satisfied: symengine<0.14,>=0.11 in c:\\users\\vaibh\\appdata\\local\\programs\\python\\python312\\lib\\site-packages (from qiskit) (0.13.0)\n",
      "Requirement already satisfied: six>=1.5 in c:\\users\\vaibh\\appdata\\local\\programs\\python\\python312\\lib\\site-packages (from python-dateutil>=2.8.0->qiskit) (1.16.0)\n",
      "Requirement already satisfied: pbr>=2.0.0 in c:\\users\\vaibh\\appdata\\local\\programs\\python\\python312\\lib\\site-packages (from stevedore>=3.0.0->qiskit) (6.1.0)\n",
      "Requirement already satisfied: mpmath>=0.19 in c:\\users\\vaibh\\appdata\\local\\programs\\python\\python312\\lib\\site-packages (from sympy>=1.3->qiskit) (1.3.0)\n",
      "Requirement already satisfied: qiskit_aer in c:\\users\\vaibh\\appdata\\local\\programs\\python\\python312\\lib\\site-packages (0.15.1)\n",
      "Requirement already satisfied: qiskit>=1.1.0 in c:\\users\\vaibh\\appdata\\local\\programs\\python\\python312\\lib\\site-packages (from qiskit_aer) (1.2.4)\n",
      "Requirement already satisfied: numpy>=1.16.3 in c:\\users\\vaibh\\appdata\\local\\programs\\python\\python312\\lib\\site-packages (from qiskit_aer) (1.26.4)\n",
      "Requirement already satisfied: scipy>=1.0 in c:\\users\\vaibh\\appdata\\local\\programs\\python\\python312\\lib\\site-packages (from qiskit_aer) (1.13.0)\n",
      "Requirement already satisfied: psutil>=5 in c:\\users\\vaibh\\appdata\\local\\programs\\python\\python312\\lib\\site-packages (from qiskit_aer) (5.9.8)\n",
      "Requirement already satisfied: rustworkx>=0.15.0 in c:\\users\\vaibh\\appdata\\local\\programs\\python\\python312\\lib\\site-packages (from qiskit>=1.1.0->qiskit_aer) (0.15.1)\n",
      "Requirement already satisfied: sympy>=1.3 in c:\\users\\vaibh\\appdata\\local\\programs\\python\\python312\\lib\\site-packages (from qiskit>=1.1.0->qiskit_aer) (1.12)\n",
      "Requirement already satisfied: dill>=0.3 in c:\\users\\vaibh\\appdata\\local\\programs\\python\\python312\\lib\\site-packages (from qiskit>=1.1.0->qiskit_aer) (0.3.9)\n",
      "Requirement already satisfied: python-dateutil>=2.8.0 in c:\\users\\vaibh\\appdata\\local\\programs\\python\\python312\\lib\\site-packages (from qiskit>=1.1.0->qiskit_aer) (2.9.0.post0)\n",
      "Requirement already satisfied: stevedore>=3.0.0 in c:\\users\\vaibh\\appdata\\local\\programs\\python\\python312\\lib\\site-packages (from qiskit>=1.1.0->qiskit_aer) (5.3.0)\n",
      "Requirement already satisfied: typing-extensions in c:\\users\\vaibh\\appdata\\local\\programs\\python\\python312\\lib\\site-packages (from qiskit>=1.1.0->qiskit_aer) (4.11.0)\n",
      "Requirement already satisfied: symengine<0.14,>=0.11 in c:\\users\\vaibh\\appdata\\local\\programs\\python\\python312\\lib\\site-packages (from qiskit>=1.1.0->qiskit_aer) (0.13.0)\n",
      "Requirement already satisfied: six>=1.5 in c:\\users\\vaibh\\appdata\\local\\programs\\python\\python312\\lib\\site-packages (from python-dateutil>=2.8.0->qiskit>=1.1.0->qiskit_aer) (1.16.0)\n",
      "Requirement already satisfied: pbr>=2.0.0 in c:\\users\\vaibh\\appdata\\local\\programs\\python\\python312\\lib\\site-packages (from stevedore>=3.0.0->qiskit>=1.1.0->qiskit_aer) (6.1.0)\n",
      "Requirement already satisfied: mpmath>=0.19 in c:\\users\\vaibh\\appdata\\local\\programs\\python\\python312\\lib\\site-packages (from sympy>=1.3->qiskit>=1.1.0->qiskit_aer) (1.3.0)\n"
     ]
    },
    {
     "name": "stderr",
     "output_type": "stream",
     "text": [
      "\n",
      "[notice] A new release of pip is available: 24.2 -> 24.3.1\n",
      "[notice] To update, run: python.exe -m pip install --upgrade pip\n"
     ]
    }
   ],
   "source": [
    "!pip install qiskit\n",
    "!pip install qiskit_aer"
   ]
  },
  {
   "cell_type": "code",
   "execution_count": 2,
   "metadata": {
    "id": "6JqBp7EvHLUz"
   },
   "outputs": [],
   "source": [
    "from qiskit import QuantumCircuit, ClassicalRegister, QuantumRegister,transpile\n",
    "from qiskit.circuit.library import GroverOperator\n",
    "from qiskit_aer import AerSimulator"
   ]
  },
  {
   "cell_type": "code",
   "execution_count": 3,
   "metadata": {
    "id": "OHkS51ZSHLXg"
   },
   "outputs": [],
   "source": [
    "import matplotlib.pyplot as plt\n",
    "import seaborn as sns\n"
   ]
  },
  {
   "cell_type": "code",
   "execution_count": 4,
   "metadata": {
    "id": "ju5ixAXnHLaP"
   },
   "outputs": [],
   "source": [
    "def create_3_puzzle_circuit():\n",
    "    \"\"\"Create the quantum circuit for solving the 3-puzzle problem using Grover's algorithm.\"\"\"\n",
    "    # Initialize quantum and classical registers\n",
    "    qr = QuantumRegister(3, 'q')\n",
    "    cr = ClassicalRegister(3, 'c')\n",
    "    qc = QuantumCircuit(qr, cr)\n",
    "\n",
    "    # Initial state |000>\n",
    "    # CNOT gates to exchange positions of qubits\n",
    "    qc.cx(qr[0], qr[1])\n",
    "    qc.cx(qr[1], qr[2])\n",
    "\n",
    "    # Apply Hadamard gates to create superposition\n",
    "    qc.h(qr[0])\n",
    "    qc.h(qr[1])\n",
    "    qc.h(qr[2])\n",
    "\n",
    "    # Placeholder for Grover's algorithm\n",
    "    # This requires defining an oracle and the Grover operator\n",
    "    # Here we use a simple placeholder to illustrate the concept\n",
    "    oracle = QuantumCircuit(3)\n",
    "    oracle.z(0)  # Example oracle condition (adjust based on the puzzle's rules)\n",
    "    oracle_gate = oracle.to_gate(label=\"Oracle\")\n",
    "\n",
    "    # Grover operator\n",
    "    grover_operator = GroverOperator(oracle)\n",
    "    qc.append(grover_operator, qr)\n",
    "\n",
    "    # Measurement\n",
    "    qc.measure(qr, cr)\n",
    "    return qc"
   ]
  },
  {
   "cell_type": "code",
   "execution_count": 5,
   "metadata": {
    "colab": {
     "base_uri": "https://localhost:8080/"
    },
    "id": "obZpvRkJHLct",
    "outputId": "e5c85180-53e5-4ae2-8a78-f05a30e1c013"
   },
   "outputs": [
    {
     "name": "stdout",
     "output_type": "stream",
     "text": [
      "Measurement results from the 3-puzzle quantum circuit:\n",
      "{'110': 141, '111': 116, '011': 123, '101': 134, '010': 131, '100': 116, '001': 134, '000': 129}\n"
     ]
    }
   ],
   "source": [
    "# Create the 3-puzzle quantum circuit\n",
    "qc = create_3_puzzle_circuit()\n",
    "\n",
    "# Execute the circuit on a quantum simulator\n",
    "simulator = AerSimulator()\n",
    "transpiled_qc = transpile(qc, simulator)\n",
    "\n",
    "job = simulator.run(transpiled_qc, shots=1024)\n",
    "result = job.result()\n",
    "counts = result.get_counts()\n",
    "\n",
    "# Output the result\n",
    "print(\"Measurement results from the 3-puzzle quantum circuit:\")\n",
    "print(counts)"
   ]
  },
  {
   "cell_type": "code",
   "execution_count": 6,
   "metadata": {
    "colab": {
     "base_uri": "https://localhost:8080/",
     "height": 472
    },
    "id": "_nKbTDwLHLfa",
    "outputId": "23531297-c2db-4da4-f733-8d1dbc2d5909"
   },
   "outputs": [
    {
     "data": {
      "image/png": "[encoded data removed]",
      "text/plain": [
       "<Figure size 640x480 with 1 Axes>"
      ]
     },
     "metadata": {},
     "output_type": "display_data"
    }
   ],
   "source": [
    "sns.barplot(x=list(counts.keys()), y=list(counts.values()))\n",
    "plt.xlabel('Measurement Outcomes')\n",
    "plt.ylabel('Counts')\n",
    "plt.title('3-Puzzle Quantum Circuit Measurement Results')\n",
    "plt.show()\n"
   ]
  },
  {
   "cell_type": "code",
   "execution_count": 7,
   "metadata": {
    "id": "JbVNHx9VHLh1"
   },
   "outputs": [],
   "source": []
  },
  {
   "cell_type": "code",
   "execution_count": 7,
   "metadata": {
    "id": "5WzKo0JkHLkS"
   },
   "outputs": [],
   "source": []
  },
  {
   "cell_type": "code",
   "execution_count": 7,
   "metadata": {
    "id": "5VoDLlyRHLn2"
   },
   "outputs": [],
   "source": []
  }
 ],
 "metadata": {
  "colab": {
   "provenance": []
  },
  "kernelspec": {
   "display_name": "Python 3 (ipykernel)",
   "language": "python",
   "name": "python3"
  },
  "language_info": {
   "codemirror_mode": {
    "name": "ipython",
    "version": 3
   },
   "file_extension": ".py",
   "mimetype": "text/x-python",
   "name": "python",
   "nbconvert_exporter": "python",
   "pygments_lexer": "ipython3",
   "version": "3.12.2"
  }
 },
 "nbformat": 4,
 "nbformat_minor": 4
}
